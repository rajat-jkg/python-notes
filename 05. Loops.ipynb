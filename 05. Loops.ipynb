{
 "cells": [
  {
   "cell_type": "markdown",
   "metadata": {},
   "source": [
    "<h1> Loops </h1>\n",
    "<h3>\n",
    "    There are two loops in python\n",
    "    <ul>\n",
    "        <li>for loop</li>\n",
    "        <li>while loop</li>\n",
    "    </ul>\n",
    "</h3>"
   ]
  },
  {
   "cell_type": "markdown",
   "metadata": {},
   "source": [
    "<h3>For loop</h3>\n",
    "<h4>Syntax:</h4>\n",
    "<b>for iterator_var in sequence: <br/>\n",
    "&nbsp; &nbsp; &nbsp; statements(s)\n",
    "<br>\n",
    "<br>\n",
    "Here, sequence refers to a list or a tuple over which the for loop runs.\n",
    "<br>\n",
    "The iterator_var takes the a value from sequence one by one.\n",
    "<br>\n",
    "<br>\n",
    "Example: </b>"
   ]
  },
  {
   "cell_type": "code",
   "execution_count": 1,
   "metadata": {},
   "outputs": [
    {
     "name": "stdout",
     "output_type": "stream",
     "text": [
      "APPLE\n",
      "BNANA\n",
      "MANGO\n",
      "POMEGRANATE\n",
      "LICHI\n"
     ]
    }
   ],
   "source": [
    "fruits = [\"APPLE\",\"BNANA\",\"MANGO\",\"POMEGRANATE\",\"LICHI\"]\n",
    "for fr in fruits:\n",
    "    print(fr)"
   ]
  },
  {
   "cell_type": "markdown",
   "metadata": {},
   "source": [
    "<b>Note: The statements preceding spaces are considered within the loops.\n",
    "<br>\n",
    "\\&\n",
    "<br>\n",
    "The statements that are to be contained in the loop body should be preceded by the same number of spaces\n",
    "</b>\n",
    "<hr>"
   ]
  },
  {
   "cell_type": "markdown",
   "metadata": {},
   "source": [
    "<h3>Range function: It returns a sequence of numbers</h3>\n",
    "<h4>Syntax: range(start, stop, step)\n",
    "<br>\n",
    "</h4>"
   ]
  },
  {
   "cell_type": "code",
   "execution_count": 4,
   "metadata": {},
   "outputs": [
    {
     "name": "stdout",
     "output_type": "stream",
     "text": [
      "1\n",
      "3\n",
      "5\n",
      "7\n",
      "9\n",
      "11\n",
      "13\n",
      "15\n",
      "17\n",
      "19\n",
      "21\n",
      "23\n",
      "\n",
      "1 3 5 7 9 11 13 15 17 19 21 23 \n",
      "\n",
      "1, 3, 5, 7, 9, 11, 13, 15, 17, 19, 21, 23, \n",
      "\n",
      "1-3-5-7-9-11-13-15-17-19-21-23-"
     ]
    }
   ],
   "source": [
    "#Example:\n",
    "x = range(1,25,2)\n",
    "for i in x:\n",
    "    print(i)\n",
    "print()\n",
    "for i in x:\n",
    "    print(i, end=\" \") # for single line output\n",
    "# by default, any thing we print is ended with \\n\n",
    "# to end it wih anything else, we need to give an argument, end = some_value\n",
    "# some more examples\n",
    "print()\n",
    "print()\n",
    "for i in x:\n",
    "    print(i, end=\", \") #for comma seperated ouput\n",
    "print()\n",
    "print()\n",
    "for i in x:\n",
    "    print(i, end=\"-\") #for hyphen seperated output"
   ]
  },
  {
   "cell_type": "code",
   "execution_count": 1,
   "metadata": {},
   "outputs": [
    {
     "name": "stdout",
     "output_type": "stream",
     "text": [
      "1, 2, 3, 4, 5, 6, 7, 8, 9, 10, 11, 12, 13, 14, 15, 16, 17, 18, 19, 20, 21, 22, 23, 24, \n",
      "0, 1, 2, 3, 4, 5, 6, 7, 8, 9, 10, 11, 12, 13, 14, 15, 16, 17, 18, 19, 20, 21, 22, 23, 24, "
     ]
    }
   ],
   "source": [
    "#more on range \n",
    "x = range(1,25) # when given only two arguments, the step is by default taken as 1\n",
    "for i in x:\n",
    "    print(i, end=\", \") \n",
    "\n",
    "print()\n",
    "\n",
    "x = range(25) \n",
    "# when given only one arguments, the argument is treated as stop value and start is considered as 0\n",
    "for i in x:\n",
    "    print(i, end=\", \") "
   ]
  },
  {
   "cell_type": "markdown",
   "metadata": {},
   "source": [
    "<hr>"
   ]
  },
  {
   "cell_type": "markdown",
   "metadata": {},
   "source": [
    "<h2>While loop</h2>\n",
    "<h4>\n",
    "Syntax:\n",
    "<br>\n",
    "<br>\n",
    "while condition: <br>\n",
    "&nbsp; &nbsp; &nbsp; (loop body)    \n",
    "</h4>"
   ]
  },
  {
   "cell_type": "code",
   "execution_count": 3,
   "metadata": {},
   "outputs": [
    {
     "name": "stdout",
     "output_type": "stream",
     "text": [
      "0 1 2 3 4 5 6 7 8 9 10 \n"
     ]
    }
   ],
   "source": [
    "#Example\n",
    "i = 0\n",
    "while i<=10:\n",
    "    print(i, end=\" \")\n",
    "    i+=1\n",
    "print()"
   ]
  },
  {
   "cell_type": "markdown",
   "metadata": {},
   "source": [
    "<h1>List Comprehension</h1>"
   ]
  },
  {
   "cell_type": "markdown",
   "metadata": {},
   "source": [
    "<ul><li><H3>Creating a list with loop</H3></li></ul>"
   ]
  },
  {
   "cell_type": "code",
   "execution_count": 2,
   "metadata": {},
   "outputs": [
    {
     "name": "stdout",
     "output_type": "stream",
     "text": [
      "['1', '2', '3', '4', '6']\n",
      "[1, 2, 3, 4, 6]\n"
     ]
    }
   ],
   "source": [
    "#Example 1\n",
    "numbers = \"12346\"\n",
    "print(list(numbers))\n",
    "numbers2 = [int(x) for x in numbers]\n",
    "# in the above line, the satement  [int(x) for x in numbers] returns a list of\n",
    "# int(x) for every value of x\n",
    "print(numbers2)"
   ]
  },
  {
   "cell_type": "code",
   "execution_count": 4,
   "metadata": {},
   "outputs": [
    {
     "name": "stdout",
     "output_type": "stream",
     "text": [
      "[1, 2, 3, 4, 5, 6]\n",
      "[2, 3, 4, 5, 6, 7, 8, 9, 10, 11, 12]\n"
     ]
    }
   ],
   "source": [
    "#Example 2\n",
    "n6 = [x for x in range(1,7)] # for first 6 natural nubers\n",
    "print(n6)\n",
    "even6 = [x for x in range(2,13)] # for first 6 even numbers\n",
    "print(even6)"
   ]
  }
 ],
 "metadata": {
  "kernelspec": {
   "display_name": "Python 3",
   "language": "python",
   "name": "python3"
  },
  "language_info": {
   "codemirror_mode": {
    "name": "ipython",
    "version": 3
   },
   "file_extension": ".py",
   "mimetype": "text/x-python",
   "name": "python",
   "nbconvert_exporter": "python",
   "pygments_lexer": "ipython3",
   "version": "3.10.7 (tags/v3.10.7:6cc6b13, Sep  5 2022, 14:08:36) [MSC v.1933 64 bit (AMD64)]"
  },
  "vscode": {
   "interpreter": {
    "hash": "c663117a3a381aa5c816d783830e80f3dbba87e53d59780e0b516fc70f63b042"
   }
  }
 },
 "nbformat": 4,
 "nbformat_minor": 2
}
