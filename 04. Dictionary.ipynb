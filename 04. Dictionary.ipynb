{
 "cells": [
  {
   "cell_type": "markdown",
   "metadata": {},
   "source": [
    "<h1>Dictionary</h1>\n",
    "<h3>A dictionary stores data values in form of pairs</h3>\n",
    "<b>syntax: dictionary_name = {key:value}</b>"
   ]
  },
  {
   "cell_type": "code",
   "execution_count": 1,
   "metadata": {},
   "outputs": [
    {
     "name": "stdout",
     "output_type": "stream",
     "text": [
      "{'first': 'Rajat', 'last': 'Gupta'}\n",
      "Rajat\n"
     ]
    }
   ],
   "source": [
    "#Example\n",
    "name = {\"first\": \"Rajat\", \"last\": \"Gupta\"} \n",
    "print(name) # printing whole dictionary\n",
    "print(name['first']) # accessing a value from the dictionary through a key"
   ]
  },
  {
   "cell_type": "code",
   "execution_count": 2,
   "metadata": {},
   "outputs": [
    {
     "name": "stdout",
     "output_type": "stream",
     "text": [
      "{'brand': 'Ford', 'model': 'Mustang', 'year': 1994}\n",
      "1994\n",
      "Mustang\n",
      "dict_keys(['brand', 'model', 'year'])\n",
      "dict_items([('brand', 'Ford'), ('model', 'Mustang'), ('year', 1994)])\n"
     ]
    }
   ],
   "source": [
    "# if we give two values are given to the same key, it over rights\n",
    "# Example: \n",
    "car = {\n",
    "  \"brand\": \"Ford\",\n",
    "  \"model\": \"Mustang\",\n",
    "  \"year\": 2020,\n",
    "  \"year\": 1994 \n",
    "}\n",
    "print(car)\n",
    "print(car[\"year\"])\n",
    "print(car.get(\"model\")) # another way of accessing values from a dictionary\n",
    "print(car.keys()) # keys function returns the list of keys of a dictionary\n",
    "print(car.items()) # items function returns the key value pairs enclosed in a list"
   ]
  },
  {
   "cell_type": "code",
   "execution_count": 3,
   "metadata": {},
   "outputs": [
    {
     "name": "stdout",
     "output_type": "stream",
     "text": [
      "{'brand': 'Ford', 'model': 'Mustang', 'year': 1994, 'color': 'white'}\n",
      "{'brand': 'Ford', 'model': 'Mustang', 'year': 1984, 'color': 'white'}\n"
     ]
    }
   ],
   "source": [
    "# inserting or altering an item in a dictionary\n",
    "car[\"color\"] = \"white\"\n",
    "print(car) # inserting a value\n",
    "car[\"year\"] = 1984\n",
    "print(car) # changing a value"
   ]
  },
  {
   "cell_type": "code",
   "execution_count": 4,
   "metadata": {},
   "outputs": [
    {
     "name": "stdout",
     "output_type": "stream",
     "text": [
      "{'brand': 'Ford', 'model': 'Mustang', 'year': 1984, 'color': 'white'}\n",
      "white\n",
      "{'brand': 'Ford', 'model': 'Mustang', 'year': 1984}\n",
      "{'brand': 'Ford', 'model': 'Mustang'}\n"
     ]
    }
   ],
   "source": [
    "# removing items from a dictionry\n",
    "print(car)\n",
    "print(car.pop('color')) #removes as well as returns the value with the given key\n",
    "print(car)\n",
    "\n",
    "# removing item with del keyword\n",
    "del car['year']\n",
    "print(car)"
   ]
  }
 ],
 "metadata": {
  "kernelspec": {
   "display_name": "Python 3",
   "language": "python",
   "name": "python3"
  },
  "language_info": {
   "codemirror_mode": {
    "name": "ipython",
    "version": 3
   },
   "file_extension": ".py",
   "mimetype": "text/x-python",
   "name": "python",
   "nbconvert_exporter": "python",
   "pygments_lexer": "ipython3",
   "version": "3.10.7 (tags/v3.10.7:6cc6b13, Sep  5 2022, 14:08:36) [MSC v.1933 64 bit (AMD64)]"
  },
  "vscode": {
   "interpreter": {
    "hash": "c663117a3a381aa5c816d783830e80f3dbba87e53d59780e0b516fc70f63b042"
   }
  }
 },
 "nbformat": 4,
 "nbformat_minor": 2
}
