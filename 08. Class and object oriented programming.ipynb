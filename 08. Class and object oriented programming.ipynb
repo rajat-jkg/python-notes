{
 "cells": [
  {
   "cell_type": "markdown",
   "metadata": {},
   "source": [
    "<h1>Class</h1>\n",
    "<h3>Syntax for class</h3>\n",
    "class class_name:<BR>\n",
    "&nbsp;&nbsp;&nbsp;methods.....\n",
    "    \n",
    "<h3>Note:</h3>\n",
    "<b>functions inside a class is called method</b>\n",
    "<br>\n",
    "<br>\n",
    "\n",
    "<h2>Creating a class with one method</h2>"
   ]
  },
  {
   "cell_type": "code",
   "execution_count": 1,
   "metadata": {},
   "outputs": [
    {
     "ename": "NameError",
     "evalue": "name 'specs' is not defined",
     "output_type": "error",
     "traceback": [
      "\u001b[0;31m---------------------------------------------------------------------------\u001b[0m",
      "\u001b[0;31mNameError\u001b[0m                                 Traceback (most recent call last)",
      "\u001b[0;32m<ipython-input-1-b2628020c7ac>\u001b[0m in \u001b[0;36m<module>\u001b[0;34m\u001b[0m\n\u001b[1;32m      3\u001b[0m         \u001b[0mprint\u001b[0m\u001b[0;34m(\u001b[0m\u001b[0;34m\"RAM: 12gb, CPU: Ryzen 5, Screen: 15.6\"\u001b[0m\u001b[0;34m)\u001b[0m\u001b[0;34m\u001b[0m\u001b[0;34m\u001b[0m\u001b[0m\n\u001b[1;32m      4\u001b[0m \u001b[0;34m\u001b[0m\u001b[0m\n\u001b[0;32m----> 5\u001b[0;31m \u001b[0mspecs\u001b[0m\u001b[0;34m(\u001b[0m\u001b[0;34m)\u001b[0m \u001b[0;31m# the mehtod cannot be accessed directly\u001b[0m\u001b[0;34m\u001b[0m\u001b[0;34m\u001b[0m\u001b[0m\n\u001b[0m",
      "\u001b[0;31mNameError\u001b[0m: name 'specs' is not defined"
     ]
    }
   ],
   "source": [
    "class Computer:\n",
    "    def specs():\n",
    "        print(\"RAM: 12gb, CPU: Ryzen 5, Screen: 15.6\")\n",
    "\n",
    "specs() # the mehtod cannot be accessed directly"
   ]
  },
  {
   "cell_type": "code",
   "execution_count": 3,
   "metadata": {},
   "outputs": [
    {
     "name": "stdout",
     "output_type": "stream",
     "text": [
      "RAM: 12gb, CPU: Ryzen 5, Screen: 15.6\n"
     ]
    }
   ],
   "source": [
    "Computer.specs() # calling a funtion within a class"
   ]
  },
  {
   "cell_type": "markdown",
   "metadata": {},
   "source": [
    "<h2>__init__() method </h2>\n",
    "<h4>If there's init method in a class. It gets executed every time an object of that class is created.</h4>\n",
    "<b>The concept of init in python is similar to that of constrctor in java</b>"
   ]
  },
  {
   "cell_type": "code",
   "execution_count": 6,
   "metadata": {},
   "outputs": [
    {
     "name": "stdout",
     "output_type": "stream",
     "text": [
      "Init method is executed\n"
     ]
    }
   ],
   "source": [
    "class DemoInit:\n",
    "    def __init__(self):\n",
    "        print(\"Init method is executed\")\n",
    "\n",
    "o = DemoInit()"
   ]
  },
  {
   "cell_type": "code",
   "execution_count": 10,
   "metadata": {},
   "outputs": [
    {
     "name": "stdout",
     "output_type": "stream",
     "text": [
      "12\n",
      "50\n"
     ]
    }
   ],
   "source": [
    "class Add:\n",
    "    def __init__(self, a,b):\n",
    "        self.a = a\n",
    "        self.b = b\n",
    "    def display(self):\n",
    "        print(self.a+self.b)\n",
    "obj1 = Add(10,2)\n",
    "obj2 = Add(42,8)\n",
    "\n",
    "obj1.display()\n",
    "obj2.display()"
   ]
  },
  {
   "cell_type": "markdown",
   "metadata": {},
   "source": [
    "<h2>Note:</h2>\n",
    "<h4>Whenever an object is created or a method is called through an object, the method takes the object as the first argument. That first argument is taken as \"self\" in any method for the object.\n",
    "</h4>"
   ]
  },
  {
   "cell_type": "code",
   "execution_count": 12,
   "metadata": {},
   "outputs": [
    {
     "name": "stdout",
     "output_type": "stream",
     "text": [
      "20\n"
     ]
    }
   ],
   "source": [
    "obj1.a = 11\n",
    "obj1.b = 9\n",
    "obj1.display()\n",
    "# we can change the value of any varible for any object by the above methods"
   ]
  }
 ],
 "metadata": {
  "kernelspec": {
   "display_name": "Python 3",
   "language": "python",
   "name": "python3"
  },
  "language_info": {
   "codemirror_mode": {
    "name": "ipython",
    "version": 3
   },
   "file_extension": ".py",
   "mimetype": "text/x-python",
   "name": "python",
   "nbconvert_exporter": "python",
   "pygments_lexer": "ipython3",
   "version": "3.10.7 (tags/v3.10.7:6cc6b13, Sep  5 2022, 14:08:36) [MSC v.1933 64 bit (AMD64)]"
  },
  "vscode": {
   "interpreter": {
    "hash": "c663117a3a381aa5c816d783830e80f3dbba87e53d59780e0b516fc70f63b042"
   }
  }
 },
 "nbformat": 4,
 "nbformat_minor": 2
}
