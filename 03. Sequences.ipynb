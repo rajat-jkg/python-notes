{
 "cells": [
  {
   "cell_type": "markdown",
   "metadata": {},
   "source": [
    "<h1>Lists</h1>"
   ]
  },
  {
   "cell_type": "markdown",
   "metadata": {},
   "source": [
    "<strong>Lists are used to store multiple items in a single variable.</strong>\n",
    "\n",
    "<ul>\n",
    "    <li>Lists are enclosed in square brackets</li>\n",
    "    <li>Elements in a list are called Items</li>\n",
    "    <li>Items are seperated by comma</li>\n",
    "    <li>Any string can be considered as list of characters</li>\n",
    "</ul>"
   ]
  },
  {
   "cell_type": "code",
   "execution_count": 1,
   "metadata": {},
   "outputs": [
    {
     "name": "stdout",
     "output_type": "stream",
     "text": [
      "['Hello', 'Hi']\n"
     ]
    }
   ],
   "source": [
    "greetings =  ['Hello', 'Hi']\n",
    "print(greetings)"
   ]
  },
  {
   "cell_type": "code",
   "execution_count": 2,
   "metadata": {},
   "outputs": [
    {
     "name": "stdout",
     "output_type": "stream",
     "text": [
      "['Rajat', 15, 226017]\n"
     ]
    }
   ],
   "source": [
    "list = ['Rajat', 15,226017] # Lists can store multiple data types\n",
    "print(list)"
   ]
  },
  {
   "cell_type": "code",
   "execution_count": 3,
   "metadata": {},
   "outputs": [
    {
     "name": "stdout",
     "output_type": "stream",
     "text": [
      "First element:  Rajat\n",
      "Second element:  15\n",
      "Third element:  226017\n"
     ]
    }
   ],
   "source": [
    "# Extacting element in list with index\n",
    "print(\"First element: \",list[0])\n",
    "print(\"Second element: \",list[1])\n",
    "print(\"Third element: \",list[2])"
   ]
  },
  {
   "cell_type": "code",
   "execution_count": 4,
   "metadata": {},
   "outputs": [
    {
     "name": "stdout",
     "output_type": "stream",
     "text": [
      "['Rajat', 15, 226017, 'Gupta']\n"
     ]
    }
   ],
   "source": [
    "# append function: It Adds the given Item at the end of the list\n",
    "# Example\n",
    "list.append('Gupta')\n",
    "print(list)"
   ]
  },
  {
   "cell_type": "code",
   "execution_count": 5,
   "metadata": {},
   "outputs": [
    {
     "name": "stdout",
     "output_type": "stream",
     "text": [
      "['Namaste', 'Hello', 'Hi']\n",
      "['Namaste', 'Hello', 'Hola', 'Hi']\n"
     ]
    }
   ],
   "source": [
    "# insert function: It adds an item at a given index in the list\n",
    "# Example\n",
    "greetings.insert(0,\"Namaste\") # inserting in the beginning\n",
    "print(greetings)\n",
    "greetings.insert(2,\"Hola\") #  inserting in the index 2\n",
    "print(greetings)"
   ]
  },
  {
   "cell_type": "code",
   "execution_count": 6,
   "metadata": {},
   "outputs": [
    {
     "name": "stdout",
     "output_type": "stream",
     "text": [
      "['Namaste', 'Hello', 'Hola', 'Hi']\n",
      "4\n"
     ]
    }
   ],
   "source": [
    "# len function: returns the number of Items in a list\n",
    "print(greetings)\n",
    "print(len(greetings))"
   ]
  },
  {
   "cell_type": "code",
   "execution_count": 7,
   "metadata": {},
   "outputs": [
    {
     "name": "stdout",
     "output_type": "stream",
     "text": [
      "['Hello', 'Hi', 'Hola', 'Namaste']\n",
      "[2, 11, 12, 25, 45, 333]\n",
      "['Rajat', 15, 226017, 'Gupta']\n"
     ]
    },
    {
     "ename": "TypeError",
     "evalue": "'<' not supported between instances of 'int' and 'str'",
     "output_type": "error",
     "traceback": [
      "\u001b[0;31m---------------------------------------------------------------------------\u001b[0m",
      "\u001b[0;31mTypeError\u001b[0m                                 Traceback (most recent call last)",
      "\u001b[0;32m<ipython-input-7-ca5c20c3232b>\u001b[0m in \u001b[0;36m<module>\u001b[0;34m\u001b[0m\n\u001b[1;32m      6\u001b[0m \u001b[0mprint\u001b[0m\u001b[0;34m(\u001b[0m\u001b[0mnumList\u001b[0m\u001b[0;34m)\u001b[0m\u001b[0;34m\u001b[0m\u001b[0;34m\u001b[0m\u001b[0m\n\u001b[1;32m      7\u001b[0m \u001b[0mprint\u001b[0m\u001b[0;34m(\u001b[0m\u001b[0mlist\u001b[0m\u001b[0;34m)\u001b[0m\u001b[0;34m\u001b[0m\u001b[0;34m\u001b[0m\u001b[0m\n\u001b[0;32m----> 8\u001b[0;31m \u001b[0mlist\u001b[0m\u001b[0;34m.\u001b[0m\u001b[0msort\u001b[0m\u001b[0;34m(\u001b[0m\u001b[0;34m)\u001b[0m \u001b[0;31m# gives error as cannot sort list containing both strings and numbers\u001b[0m\u001b[0;34m\u001b[0m\u001b[0;34m\u001b[0m\u001b[0m\n\u001b[0m",
      "\u001b[0;31mTypeError\u001b[0m: '<' not supported between instances of 'int' and 'str'"
     ]
    }
   ],
   "source": [
    "#sort: it sorts a string list in alphabetical order and number list in ascending order\n",
    "greetings.sort() # sorting greetings lists\n",
    "print(greetings) \n",
    "numList = [12,25,333,2,45,11]\n",
    "numList.sort()\n",
    "print(numList)\n",
    "print(list)\n",
    "list.sort() # gives error as cannot sort list containing both strings and numbers"
   ]
  },
  {
   "cell_type": "code",
   "execution_count": 8,
   "metadata": {},
   "outputs": [
    {
     "name": "stdout",
     "output_type": "stream",
     "text": [
      "333\n",
      "[2, 11, 12, 25, 45]\n",
      "11\n"
     ]
    }
   ],
   "source": [
    "#Some more python functions\n",
    "# pop(): Returns the last item and deletes it from the array\n",
    "print(numList.pop())\n",
    "print(numList)\n",
    "print(numList.pop(1)) # if given a numeric parameter, it returns the item at the given index and deletes it"
   ]
  },
  {
   "cell_type": "code",
   "execution_count": 9,
   "metadata": {},
   "outputs": [
    {
     "name": "stdout",
     "output_type": "stream",
     "text": [
      "[45, 25, 12, 2]\n"
     ]
    }
   ],
   "source": [
    "# revese() : reveses the order of the list\n",
    "numList.reverse()\n",
    "print(numList)"
   ]
  },
  {
   "cell_type": "code",
   "execution_count": 10,
   "metadata": {},
   "outputs": [
    {
     "name": "stdout",
     "output_type": "stream",
     "text": [
      "[]\n"
     ]
    }
   ],
   "source": [
    "# clear(): deletes all the items from the list\n",
    "greetings.clear()\n",
    "print(greetings)"
   ]
  },
  {
   "cell_type": "code",
   "execution_count": 11,
   "metadata": {},
   "outputs": [
    {
     "name": "stdout",
     "output_type": "stream",
     "text": [
      "2\n",
      "1\n"
     ]
    }
   ],
   "source": [
    "# index(): Returns the index of the first element with a specific value\n",
    "# count(): Returns the number of times ant item occurs in a list\n",
    "print(numList.index(12))\n",
    "print(numList.count(12))"
   ]
  },
  {
   "cell_type": "markdown",
   "metadata": {},
   "source": [
    "<h3>Tuples</h3>\n",
    "<b>A tuple is a list that is unchangeble</b>"
   ]
  },
  {
   "cell_type": "code",
   "execution_count": 12,
   "metadata": {
    "scrolled": true
   },
   "outputs": [
    {
     "name": "stdout",
     "output_type": "stream",
     "text": [
      "(12, 2, 10, 562, 1)\n"
     ]
    },
    {
     "ename": "AttributeError",
     "evalue": "'tuple' object has no attribute 'sort'",
     "output_type": "error",
     "traceback": [
      "\u001b[0;31m---------------------------------------------------------------------------\u001b[0m",
      "\u001b[0;31mAttributeError\u001b[0m                            Traceback (most recent call last)",
      "\u001b[0;32m<ipython-input-12-742a24000a44>\u001b[0m in \u001b[0;36m<module>\u001b[0;34m\u001b[0m\n\u001b[1;32m      2\u001b[0m \u001b[0mnumbers\u001b[0m \u001b[0;34m=\u001b[0m \u001b[0;34m(\u001b[0m\u001b[0;36m12\u001b[0m\u001b[0;34m,\u001b[0m \u001b[0;36m2\u001b[0m\u001b[0;34m,\u001b[0m\u001b[0;36m10\u001b[0m\u001b[0;34m,\u001b[0m\u001b[0;36m562\u001b[0m\u001b[0;34m,\u001b[0m\u001b[0;36m1\u001b[0m\u001b[0;34m)\u001b[0m\u001b[0;34m\u001b[0m\u001b[0;34m\u001b[0m\u001b[0m\n\u001b[1;32m      3\u001b[0m \u001b[0mprint\u001b[0m\u001b[0;34m(\u001b[0m\u001b[0mnumbers\u001b[0m\u001b[0;34m)\u001b[0m\u001b[0;34m\u001b[0m\u001b[0;34m\u001b[0m\u001b[0m\n\u001b[0;32m----> 4\u001b[0;31m \u001b[0mnumbers\u001b[0m\u001b[0;34m.\u001b[0m\u001b[0msort\u001b[0m\u001b[0;34m(\u001b[0m\u001b[0;34m)\u001b[0m \u001b[0;31m# shows error as tuple cannot be modified\u001b[0m\u001b[0;34m\u001b[0m\u001b[0;34m\u001b[0m\u001b[0m\n\u001b[0m\u001b[1;32m      5\u001b[0m \u001b[0mprint\u001b[0m\u001b[0;34m(\u001b[0m\u001b[0mnumbers\u001b[0m\u001b[0;34m)\u001b[0m\u001b[0;34m\u001b[0m\u001b[0;34m\u001b[0m\u001b[0m\n",
      "\u001b[0;31mAttributeError\u001b[0m: 'tuple' object has no attribute 'sort'"
     ]
    }
   ],
   "source": [
    "# declaration: variable_name = (items)\n",
    "numbers = (12, 2,10,562,1)\n",
    "print(numbers)\n",
    "numbers.sort() # shows error as tuple cannot be modified\n",
    "print(numbers)"
   ]
  },
  {
   "cell_type": "code",
   "execution_count": 4,
   "metadata": {},
   "outputs": [
    {
     "name": "stdout",
     "output_type": "stream",
     "text": [
      "<itertools.product object at 0x0000026E6C038BC0>\n",
      "[(2, 2), (2, 6), (2, 9), (3, 2), (3, 6), (3, 9), (4, 2), (4, 6), (4, 9)]\n"
     ]
    }
   ],
   "source": [
    "#product() : it returns the cartesian product of two sequences\n",
    "from itertools import product\n",
    "lis1 = [2,3,4]\n",
    "lis2 = [2,6,9]\n",
    "print(product(lis1,lis2)) # it returns the id of product\n",
    "print(list(product(lis1,lis2))) # when we convert it in form of a list, it returns the catesian product in form of the list of tuples "
   ]
  },
  {
   "cell_type": "markdown",
   "metadata": {},
   "source": [
    "<h1>Sets</h1>"
   ]
  },
  {
   "cell_type": "markdown",
   "metadata": {},
   "source": [
    "<b>Sets are unordered sequence of data. They can store only one data type. <br>\n",
    "Sets do not support saving duplicate entries.\n",
    "<br>\n",
    "A set cannot be modified.\n",
    "<br>\n",
    "A set is not ordered, means everytime you access the data from set, you will get a different order\n",
    "</b>\n"
   ]
  },
  {
   "cell_type": "code",
   "execution_count": 15,
   "metadata": {
    "scrolled": false
   },
   "outputs": [
    {
     "name": "stdout",
     "output_type": "stream",
     "text": [
      "{1, 2, 3, 4, 5}\n",
      "{1, 2, 3, 4, 5}\n",
      "{1, 3, 9}\n",
      "list:  ['Rajat', 'Abhishek', 'Chhotu', 'Aryan', 'Abhishek']\n",
      "List converted to set:  {'Rajat', 'Aryan', 'Chhotu', 'Abhishek'}\n",
      "Set converted back to list:  ['Rajat', 'Aryan', 'Chhotu', 'Abhishek']\n"
     ]
    }
   ],
   "source": [
    "# declaration of sets\n",
    "\n",
    "myset = {1,2,3,4,5}\n",
    "print(myset)\n",
    "print(myset)\n",
    "#declaring set with duplicate value\n",
    "myset2 = {1,1,3,9,9}\n",
    "print(myset2)\n",
    "\n",
    "# converting a list to set\n",
    "\n",
    "names = [\"Rajat\", \"Abhishek\", \"Chhotu\", \"Aryan\", \"Abhishek\"]\n",
    "print(\"list: \",names)\n",
    "print(\"List converted to set: \", set(names))\n",
    "print(\"Set converted back to list: \", list(set(names)))"
   ]
  },
  {
   "cell_type": "markdown",
   "metadata": {},
   "source": [
    "<h1> String functions </h1>"
   ]
  },
  {
   "cell_type": "code",
   "execution_count": 15,
   "metadata": {},
   "outputs": [
    {
     "name": "stdout",
     "output_type": "stream",
     "text": [
      "ok fine done\n"
     ]
    }
   ],
   "source": [
    "# join() : takes a sequence, joins its elements to form a string\n",
    "# syntax: seprator.join(list)\n",
    "l = ['ok','fine','done']\n",
    "print(\" \".join(l))"
   ]
  },
  {
   "cell_type": "code",
   "execution_count": 13,
   "metadata": {},
   "outputs": [
    {
     "name": "stdout",
     "output_type": "stream",
     "text": [
      "A B C D\n",
      "['A', 'B', 'C', 'D']\n"
     ]
    }
   ],
   "source": [
    "# split() : it takes a string and seperates its words into a list\n",
    "# syntax : string.split()\n",
    "# if there's a seperator, the syntax will be as follows\n",
    "# string.split(seperator)\n",
    "s = \"A B C D\"\n",
    "print(s)\n",
    "print(s.split())"
   ]
  }
 ],
 "metadata": {
  "kernelspec": {
   "display_name": "Python 3",
   "language": "python",
   "name": "python3"
  },
  "language_info": {
   "codemirror_mode": {
    "name": "ipython",
    "version": 3
   },
   "file_extension": ".py",
   "mimetype": "text/x-python",
   "name": "python",
   "nbconvert_exporter": "python",
   "pygments_lexer": "ipython3",
   "version": "3.10.7 (tags/v3.10.7:6cc6b13, Sep  5 2022, 14:08:36) [MSC v.1933 64 bit (AMD64)]"
  },
  "vscode": {
   "interpreter": {
    "hash": "c663117a3a381aa5c816d783830e80f3dbba87e53d59780e0b516fc70f63b042"
   }
  }
 },
 "nbformat": 4,
 "nbformat_minor": 2
}
