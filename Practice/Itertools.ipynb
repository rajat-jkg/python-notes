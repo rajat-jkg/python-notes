{
 "cells": [
  {
   "cell_type": "code",
   "execution_count": 2,
   "id": "cdc79019",
   "metadata": {},
   "outputs": [],
   "source": [
    "import itertools as IT"
   ]
  },
  {
   "cell_type": "code",
   "execution_count": 11,
   "id": "cb1ad128",
   "metadata": {},
   "outputs": [],
   "source": [
    "cy = IT.cycle(\"ABC\")"
   ]
  },
  {
   "cell_type": "code",
   "execution_count": 13,
   "id": "5507e4a8",
   "metadata": {},
   "outputs": [
    {
     "name": "stdout",
     "output_type": "stream",
     "text": [
      "A\n",
      "B\n",
      "C\n",
      "A\n",
      "B\n",
      "C\n",
      "A\n",
      "B\n",
      "C\n",
      "A\n",
      "B\n",
      "C\n",
      "A\n",
      "B\n",
      "C\n",
      "A\n",
      "B\n",
      "C\n",
      "A\n",
      "B\n"
     ]
    }
   ],
   "source": [
    "for x in range(20):\n",
    "    print(next(cy))"
   ]
  },
  {
   "cell_type": "code",
   "execution_count": 15,
   "id": "cc01d674",
   "metadata": {},
   "outputs": [
    {
     "data": {
      "text/plain": [
       "['A', 'A', 'A', 'A', 'A', 'A', 'A', 'A', 'A', 'A']"
      ]
     },
     "execution_count": 15,
     "metadata": {},
     "output_type": "execute_result"
    }
   ],
   "source": [
    "list(IT.repeat('A',10))"
   ]
  },
  {
   "cell_type": "code",
   "execution_count": 24,
   "id": "57adeddf",
   "metadata": {},
   "outputs": [],
   "source": [
    "names = ['Maya','Eric', 'Saya']\n",
    "n= names.__iter__()"
   ]
  },
  {
   "cell_type": "code",
   "execution_count": 25,
   "id": "e870fb24",
   "metadata": {},
   "outputs": [
    {
     "name": "stdout",
     "output_type": "stream",
     "text": [
      "Maya\n",
      "Eric\n",
      "Saya\n"
     ]
    }
   ],
   "source": [
    "while 1:\n",
    "    try:\n",
    "        print(n.__next__())\n",
    "    except StopIteration:\n",
    "        break"
   ]
  },
  {
   "cell_type": "code",
   "execution_count": 30,
   "id": "e11e9b51",
   "metadata": {},
   "outputs": [],
   "source": [
    "A = [1,2,7,12]\n",
    "B = [1,9,11,69]\n",
    "C= [69,65]"
   ]
  },
  {
   "cell_type": "code",
   "execution_count": 38,
   "id": "2aa1bb34",
   "metadata": {},
   "outputs": [
    {
     "data": {
      "text/plain": [
       "[('A',), ('B',), ('C',), ('D',), ('E',)]"
      ]
     },
     "execution_count": 38,
     "metadata": {},
     "output_type": "execute_result"
    }
   ],
   "source": [
    "list(IT.product(A))"
   ]
  },
  {
   "cell_type": "code",
   "execution_count": 32,
   "id": "3edca1a9",
   "metadata": {},
   "outputs": [],
   "source": [
    "A= ['A','B','C','D',\"E\"]"
   ]
  },
  {
   "cell_type": "code",
   "execution_count": 37,
   "id": "04c4d4dc",
   "metadata": {},
   "outputs": [
    {
     "data": {
      "text/plain": [
       "[('A', 'B', 'C', 'D'),\n",
       " ('A', 'B', 'C', 'E'),\n",
       " ('A', 'B', 'D', 'C'),\n",
       " ('A', 'B', 'D', 'E'),\n",
       " ('A', 'B', 'E', 'C'),\n",
       " ('A', 'B', 'E', 'D'),\n",
       " ('A', 'C', 'B', 'D'),\n",
       " ('A', 'C', 'B', 'E'),\n",
       " ('A', 'C', 'D', 'B'),\n",
       " ('A', 'C', 'D', 'E'),\n",
       " ('A', 'C', 'E', 'B'),\n",
       " ('A', 'C', 'E', 'D'),\n",
       " ('A', 'D', 'B', 'C'),\n",
       " ('A', 'D', 'B', 'E'),\n",
       " ('A', 'D', 'C', 'B'),\n",
       " ('A', 'D', 'C', 'E'),\n",
       " ('A', 'D', 'E', 'B'),\n",
       " ('A', 'D', 'E', 'C'),\n",
       " ('A', 'E', 'B', 'C'),\n",
       " ('A', 'E', 'B', 'D'),\n",
       " ('A', 'E', 'C', 'B'),\n",
       " ('A', 'E', 'C', 'D'),\n",
       " ('A', 'E', 'D', 'B'),\n",
       " ('A', 'E', 'D', 'C'),\n",
       " ('B', 'A', 'C', 'D'),\n",
       " ('B', 'A', 'C', 'E'),\n",
       " ('B', 'A', 'D', 'C'),\n",
       " ('B', 'A', 'D', 'E'),\n",
       " ('B', 'A', 'E', 'C'),\n",
       " ('B', 'A', 'E', 'D'),\n",
       " ('B', 'C', 'A', 'D'),\n",
       " ('B', 'C', 'A', 'E'),\n",
       " ('B', 'C', 'D', 'A'),\n",
       " ('B', 'C', 'D', 'E'),\n",
       " ('B', 'C', 'E', 'A'),\n",
       " ('B', 'C', 'E', 'D'),\n",
       " ('B', 'D', 'A', 'C'),\n",
       " ('B', 'D', 'A', 'E'),\n",
       " ('B', 'D', 'C', 'A'),\n",
       " ('B', 'D', 'C', 'E'),\n",
       " ('B', 'D', 'E', 'A'),\n",
       " ('B', 'D', 'E', 'C'),\n",
       " ('B', 'E', 'A', 'C'),\n",
       " ('B', 'E', 'A', 'D'),\n",
       " ('B', 'E', 'C', 'A'),\n",
       " ('B', 'E', 'C', 'D'),\n",
       " ('B', 'E', 'D', 'A'),\n",
       " ('B', 'E', 'D', 'C'),\n",
       " ('C', 'A', 'B', 'D'),\n",
       " ('C', 'A', 'B', 'E'),\n",
       " ('C', 'A', 'D', 'B'),\n",
       " ('C', 'A', 'D', 'E'),\n",
       " ('C', 'A', 'E', 'B'),\n",
       " ('C', 'A', 'E', 'D'),\n",
       " ('C', 'B', 'A', 'D'),\n",
       " ('C', 'B', 'A', 'E'),\n",
       " ('C', 'B', 'D', 'A'),\n",
       " ('C', 'B', 'D', 'E'),\n",
       " ('C', 'B', 'E', 'A'),\n",
       " ('C', 'B', 'E', 'D'),\n",
       " ('C', 'D', 'A', 'B'),\n",
       " ('C', 'D', 'A', 'E'),\n",
       " ('C', 'D', 'B', 'A'),\n",
       " ('C', 'D', 'B', 'E'),\n",
       " ('C', 'D', 'E', 'A'),\n",
       " ('C', 'D', 'E', 'B'),\n",
       " ('C', 'E', 'A', 'B'),\n",
       " ('C', 'E', 'A', 'D'),\n",
       " ('C', 'E', 'B', 'A'),\n",
       " ('C', 'E', 'B', 'D'),\n",
       " ('C', 'E', 'D', 'A'),\n",
       " ('C', 'E', 'D', 'B'),\n",
       " ('D', 'A', 'B', 'C'),\n",
       " ('D', 'A', 'B', 'E'),\n",
       " ('D', 'A', 'C', 'B'),\n",
       " ('D', 'A', 'C', 'E'),\n",
       " ('D', 'A', 'E', 'B'),\n",
       " ('D', 'A', 'E', 'C'),\n",
       " ('D', 'B', 'A', 'C'),\n",
       " ('D', 'B', 'A', 'E'),\n",
       " ('D', 'B', 'C', 'A'),\n",
       " ('D', 'B', 'C', 'E'),\n",
       " ('D', 'B', 'E', 'A'),\n",
       " ('D', 'B', 'E', 'C'),\n",
       " ('D', 'C', 'A', 'B'),\n",
       " ('D', 'C', 'A', 'E'),\n",
       " ('D', 'C', 'B', 'A'),\n",
       " ('D', 'C', 'B', 'E'),\n",
       " ('D', 'C', 'E', 'A'),\n",
       " ('D', 'C', 'E', 'B'),\n",
       " ('D', 'E', 'A', 'B'),\n",
       " ('D', 'E', 'A', 'C'),\n",
       " ('D', 'E', 'B', 'A'),\n",
       " ('D', 'E', 'B', 'C'),\n",
       " ('D', 'E', 'C', 'A'),\n",
       " ('D', 'E', 'C', 'B'),\n",
       " ('E', 'A', 'B', 'C'),\n",
       " ('E', 'A', 'B', 'D'),\n",
       " ('E', 'A', 'C', 'B'),\n",
       " ('E', 'A', 'C', 'D'),\n",
       " ('E', 'A', 'D', 'B'),\n",
       " ('E', 'A', 'D', 'C'),\n",
       " ('E', 'B', 'A', 'C'),\n",
       " ('E', 'B', 'A', 'D'),\n",
       " ('E', 'B', 'C', 'A'),\n",
       " ('E', 'B', 'C', 'D'),\n",
       " ('E', 'B', 'D', 'A'),\n",
       " ('E', 'B', 'D', 'C'),\n",
       " ('E', 'C', 'A', 'B'),\n",
       " ('E', 'C', 'A', 'D'),\n",
       " ('E', 'C', 'B', 'A'),\n",
       " ('E', 'C', 'B', 'D'),\n",
       " ('E', 'C', 'D', 'A'),\n",
       " ('E', 'C', 'D', 'B'),\n",
       " ('E', 'D', 'A', 'B'),\n",
       " ('E', 'D', 'A', 'C'),\n",
       " ('E', 'D', 'B', 'A'),\n",
       " ('E', 'D', 'B', 'C'),\n",
       " ('E', 'D', 'C', 'A'),\n",
       " ('E', 'D', 'C', 'B')]"
      ]
     },
     "execution_count": 37,
     "metadata": {},
     "output_type": "execute_result"
    }
   ],
   "source": [
    "list(IT.permutations(A,4))"
   ]
  }
 ],
 "metadata": {
  "kernelspec": {
   "display_name": "Python 3 (ipykernel)",
   "language": "python",
   "name": "python3"
  },
  "language_info": {
   "codemirror_mode": {
    "name": "ipython",
    "version": 3
   },
   "file_extension": ".py",
   "mimetype": "text/x-python",
   "name": "python",
   "nbconvert_exporter": "python",
   "pygments_lexer": "ipython3",
   "version": "3.11.3"
  }
 },
 "nbformat": 4,
 "nbformat_minor": 5
}
