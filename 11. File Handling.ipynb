{
 "cells": [
  {
   "cell_type": "markdown",
   "id": "22179de9",
   "metadata": {},
   "source": [
    "<H1>File Handling</H1>\n",
    "\n",
    "<H2>Opening a file</H2>\n",
    "<h3> Syntax</h3>\n",
    "\n",
    "<code>f = open(filename, mode)</code>\n",
    "\n",
    "<h3>Supported modes</h3>\n",
    "\n",
    "The following mode is supported:\n",
    "<ol>\n",
    "<li>r: open an existing file for a read operation.</li>\n",
    "<li>w: open an existing file for a write operation. If the file already contains some data then it will be overridden.</li>\n",
    "<li>a: open an existing file for append operation. It won’t override existing data.</li>\n",
    "<li>rb: Reads the data in a file in binary format. Generally, we do this to read the non-text files.</li>\n",
    "<li>wb: To write to a binary file.</li>\n"
   ]
  },
  {
   "cell_type": "code",
   "execution_count": 1,
   "id": "43c01c5a",
   "metadata": {},
   "outputs": [
    {
     "data": {
      "text/plain": [
       "11"
      ]
     },
     "execution_count": 1,
     "metadata": {},
     "output_type": "execute_result"
    }
   ],
   "source": [
    "f = open(\"99Samplefile.txt\",\"w\") #opens the file and creates it if does't already exist\n",
    "f.write(\"Hello world\") #Write functions writes the given argument inside the file"
   ]
  },
  {
   "cell_type": "code",
   "execution_count": 28,
   "id": "e0371327",
   "metadata": {},
   "outputs": [
    {
     "name": "stdout",
     "output_type": "stream",
     "text": [
      "Hello world\n",
      "\n",
      "Second line\n"
     ]
    }
   ],
   "source": [
    "file = open(\"99Samplefile.txt\",\"r\") # opening the file in read mode\n",
    "# we can read the file through a for loop. It extracts the text in the file line by line in sequence,\n",
    "for each in file:\n",
    "    print(each)"
   ]
  },
  {
   "cell_type": "code",
   "execution_count": 8,
   "id": "872e2fa1",
   "metadata": {},
   "outputs": [
    {
     "data": {
      "text/plain": [
       "12"
      ]
     },
     "execution_count": 8,
     "metadata": {},
     "output_type": "execute_result"
    }
   ],
   "source": [
    "file3 = open(\"99Samplefile.txt\", \"a\")\n",
    "file3.write(\"\\nSecond line\") # to add a new line to a file we have to open in append mode and write the desired line "
   ]
  },
  {
   "cell_type": "markdown",
   "id": "8ed424ec",
   "metadata": {},
   "source": [
    "<h3>Read and readline</h3>"
   ]
  },
  {
   "cell_type": "code",
   "execution_count": 24,
   "id": "3a4e8c7e",
   "metadata": {},
   "outputs": [
    {
     "name": "stdout",
     "output_type": "stream",
     "text": [
      "Hello world\n",
      "Second line\n"
     ]
    }
   ],
   "source": [
    "file4 = open(\"99Samplefile.txt\", \"r\")\n",
    "print(file4.read()) #read function reads all the lines of a file"
   ]
  },
  {
   "cell_type": "code",
   "execution_count": 31,
   "id": "1dc2e92c",
   "metadata": {},
   "outputs": [
    {
     "name": "stdout",
     "output_type": "stream",
     "text": [
      "Hello world\n",
      "\n",
      "Second line\n"
     ]
    }
   ],
   "source": [
    "file4 = open(\"99Samplefile.txt\", \"r\")\n",
    "print(file4.readline()) # readline function reads a single line of the file\n",
    "print(file4.readline()) # after readline is executed,it moves the cursor forwrd to the next line. \n",
    "#when excuted again, it gives the next line"
   ]
  },
  {
   "cell_type": "markdown",
   "id": "a4aa9e10",
   "metadata": {},
   "source": [
    "<h3>Copying a file</h3>"
   ]
  },
  {
   "cell_type": "code",
   "execution_count": 33,
   "id": "ee984593",
   "metadata": {},
   "outputs": [
    {
     "data": {
      "text/plain": [
       "23"
      ]
     },
     "execution_count": 33,
     "metadata": {},
     "output_type": "execute_result"
    }
   ],
   "source": [
    "#1 open the file to be copied in read mode\n",
    "file5 = open(\"99Samplefile.txt\",\"r\")\n",
    "#2 create a file and open in write mode\n",
    "file6 = open(\"Sample2.txt\",\"w\")\n",
    "#3 Read the data of the first file\n",
    "data = file5.read()\n",
    "#4 Write it in the other file\n",
    "file6.write(data)"
   ]
  }
 ],
 "metadata": {
  "kernelspec": {
   "display_name": "Python 3 (ipykernel)",
   "language": "python",
   "name": "python3"
  },
  "language_info": {
   "codemirror_mode": {
    "name": "ipython",
    "version": 3
   },
   "file_extension": ".py",
   "mimetype": "text/x-python",
   "name": "python",
   "nbconvert_exporter": "python",
   "pygments_lexer": "ipython3",
   "version": "3.10.7"
  }
 },
 "nbformat": 4,
 "nbformat_minor": 5
}
