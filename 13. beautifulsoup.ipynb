{
 "cells": [
  {
   "attachments": {},
   "cell_type": "markdown",
   "metadata": {},
   "source": [
    "## BeautifulSoup"
   ]
  },
  {
   "cell_type": "code",
   "execution_count": 3,
   "metadata": {},
   "outputs": [],
   "source": [
    "from bs4 import BeautifulSoup # importing beautifulsou"
   ]
  },
  {
   "cell_type": "code",
   "execution_count": 5,
   "metadata": {},
   "outputs": [],
   "source": [
    "from requests import get #importing get"
   ]
  },
  {
   "cell_type": "code",
   "execution_count": 6,
   "metadata": {},
   "outputs": [],
   "source": [
    "page = get('http://rajatgupta.me/blog').text # getting the page html"
   ]
  },
  {
   "cell_type": "code",
   "execution_count": 8,
   "metadata": {},
   "outputs": [],
   "source": [
    "soup = BeautifulSoup(page , 'lxml') # parsing html"
   ]
  },
  {
   "cell_type": "code",
   "execution_count": 20,
   "metadata": {},
   "outputs": [
    {
     "data": {
      "text/plain": [
       "'Blog - Rajat Gupta'"
      ]
     },
     "execution_count": 20,
     "metadata": {},
     "output_type": "execute_result"
    }
   ],
   "source": [
    "soup.head.title.text # traversing through soup"
   ]
  },
  {
   "cell_type": "code",
   "execution_count": 23,
   "metadata": {},
   "outputs": [
    {
     "name": "stdout",
     "output_type": "stream",
     "text": [
      "Rajat Gupta\n"
     ]
    }
   ],
   "source": [
    "first_author = soup.find('span', class_=\"author-name\") # finding an element by class-name\n",
    "print(first_author.text)"
   ]
  },
  {
   "cell_type": "code",
   "execution_count": 34,
   "metadata": {},
   "outputs": [
    {
     "data": {
      "text/plain": [
       "'https://rajatgupta.me/wp-content/uploads/2022/03/2-1-e1647937320867.png'"
      ]
     },
     "execution_count": 34,
     "metadata": {},
     "output_type": "execute_result"
    }
   ],
   "source": [
    "# finding first image\n",
    "first_image = soup.body.img\n",
    "# getting an atttibute\n",
    "first_image['src']\n",
    "# the attribute of a tag can be accessed though the tag object by treating it as a dictionary"
   ]
  },
  {
   "cell_type": "code",
   "execution_count": 40,
   "metadata": {},
   "outputs": [
    {
     "name": "stdout",
     "output_type": "stream",
     "text": [
      "[<h2 class=\"entry-title\" itemprop=\"headline\"><a href=\"https://rajatgupta.me/the-startup-culture/\" rel=\"bookmark\">The Startup Culture or the race for making mobile apps</a></h2>, <h2 class=\"entry-title\" itemprop=\"headline\"><a href=\"https://rajatgupta.me/why-india-lags-in-education-my-take/\" rel=\"bookmark\">Why India lags in Education: My take</a></h2>, <h2 class=\"entry-title\" itemprop=\"headline\"><a href=\"https://rajatgupta.me/building-a-website-with-wordpress-vs-hand-coding-a-php-website/\" rel=\"bookmark\">Building a website with WordPress Vs Hand coding a PHP website</a></h2>, <h2 class=\"entry-title\" itemprop=\"headline\"><a href=\"https://rajatgupta.me/will-ai-overpower-humans/\" rel=\"bookmark\">Will AI overpower humans?</a></h2>, <h2 class=\"entry-title\" itemprop=\"headline\"><a href=\"https://rajatgupta.me/modernization-vs-westernization/\" rel=\"bookmark\">Modernization Vs Westernization</a></h2>]\n"
     ]
    }
   ],
   "source": [
    "titles = soup.find_all('h2', class_=\"entry-title\") # getting a set of titles\n",
    "\n",
    "print(titles)"
   ]
  }
 ],
 "metadata": {
  "kernelspec": {
   "display_name": "Python 3",
   "language": "python",
   "name": "python3"
  },
  "language_info": {
   "codemirror_mode": {
    "name": "ipython",
    "version": 3
   },
   "file_extension": ".py",
   "mimetype": "text/x-python",
   "name": "python",
   "nbconvert_exporter": "python",
   "pygments_lexer": "ipython3",
   "version": "3.10.7"
  },
  "orig_nbformat": 4,
  "vscode": {
   "interpreter": {
    "hash": "c663117a3a381aa5c816d783830e80f3dbba87e53d59780e0b516fc70f63b042"
   }
  }
 },
 "nbformat": 4,
 "nbformat_minor": 2
}
