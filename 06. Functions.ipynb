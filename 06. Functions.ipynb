{
 "cells": [
  {
   "cell_type": "markdown",
   "metadata": {},
   "source": [
    "<h1>Functions</h1>\n",
    "<h2>Syntax</h2>\n",
    "<h4>def function_name(arguments):\n",
    "<br>\n",
    "&nbsp; &nbsp; &nbsp; function definition\n",
    "<br>\n",
    "&nbsp; &nbsp; &nbsp; return return_value\n",
    "<br>\n",
    "</h4>"
   ]
  },
  {
   "cell_type": "code",
   "execution_count": 4,
   "metadata": {},
   "outputs": [],
   "source": [
    "#Example\n",
    "# Defining function\n",
    "def fun():\n",
    "    print(\"Hello wolrd\")"
   ]
  },
  {
   "cell_type": "code",
   "execution_count": 5,
   "metadata": {},
   "outputs": [
    {
     "name": "stdout",
     "output_type": "stream",
     "text": [
      "Hello wolrd\n"
     ]
    }
   ],
   "source": [
    "#calling function\n",
    "fun()"
   ]
  },
  {
   "cell_type": "code",
   "execution_count": 9,
   "metadata": {},
   "outputs": [
    {
     "name": "stdout",
     "output_type": "stream",
     "text": [
      "Hello Rajesh\n"
     ]
    }
   ],
   "source": [
    "#functions with arguments\n",
    "def greet(name):\n",
    "    print(\"Hello \" + name)\n",
    "    \n",
    "greet(\"Rajesh\")"
   ]
  },
  {
   "cell_type": "code",
   "execution_count": 14,
   "metadata": {},
   "outputs": [
    {
     "name": "stdout",
     "output_type": "stream",
     "text": [
      "calling Function with argument Rajesh\n",
      "Hello Rajesh\n",
      "\n",
      "Calling function without argument\n",
      "Hello There\n"
     ]
    }
   ],
   "source": [
    "# setting a value of a paramater in the parentheses while declaring gives it a default vale. \n",
    "#This value is used when no value is given in the function call statement\n",
    "def greet(name = \"There\"): \n",
    "    print(\"Hello \" + name)\n",
    "\n",
    "print(\"calling Function with argument Rajesh\")\n",
    "greet(\"Rajesh\")\n",
    "print()\n",
    "print(\"Calling function without argument\")\n",
    "greet()"
   ]
  }
 ],
 "metadata": {
  "kernelspec": {
   "display_name": "Python 3",
   "language": "python",
   "name": "python3"
  },
  "language_info": {
   "codemirror_mode": {
    "name": "ipython",
    "version": 3
   },
   "file_extension": ".py",
   "mimetype": "text/x-python",
   "name": "python",
   "nbconvert_exporter": "python",
   "pygments_lexer": "ipython3",
   "version": "3.10.7 (tags/v3.10.7:6cc6b13, Sep  5 2022, 14:08:36) [MSC v.1933 64 bit (AMD64)]"
  },
  "vscode": {
   "interpreter": {
    "hash": "c663117a3a381aa5c816d783830e80f3dbba87e53d59780e0b516fc70f63b042"
   }
  }
 },
 "nbformat": 4,
 "nbformat_minor": 2
}
