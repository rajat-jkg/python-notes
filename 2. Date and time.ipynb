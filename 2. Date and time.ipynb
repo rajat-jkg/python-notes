{
 "cells": [
  {
   "cell_type": "markdown",
   "metadata": {},
   "source": [
    "<h1>Date and time </h1>"
   ]
  },
  {
   "cell_type": "markdown",
   "metadata": {},
   "source": [
    "<h2>Modules and Packages</h2>\n",
    "<h3>Modules: </h3>\n",
    "<h4>Modules are the python files that contain executable code</h4>\n",
    "<h3>Packages: </h3>\n",
    "<h4>A python package is a set of modules. It is the directory where some modules are stored</h4>"
   ]
  },
  {
   "cell_type": "markdown",
   "metadata": {},
   "source": [
    "<h3>Importing a module</h3>\n",
    "<h4>Syntax:</h4>\n",
    "from {module name} import {function/object/variable name}"
   ]
  },
  {
   "cell_type": "code",
   "execution_count": 25,
   "metadata": {},
   "outputs": [],
   "source": [
    "from datetime import datetime, timedelta # impoting the functions for date and time"
   ]
  },
  {
   "cell_type": "code",
   "execution_count": 26,
   "metadata": {},
   "outputs": [
    {
     "name": "stdout",
     "output_type": "stream",
     "text": [
      "2022-04-17 14:13:20.838006\n"
     ]
    }
   ],
   "source": [
    "curr = datetime.now()\n",
    "\n",
    "# datetime() returns a point of time\n",
    "# datetime.now(), returns the time and date on which the programm is executed\n",
    "# datetime format: YYYY-MM-DD hr:min:sec\n",
    "\n",
    "print(curr)"
   ]
  },
  {
   "cell_type": "code",
   "execution_count": 27,
   "metadata": {},
   "outputs": [
    {
     "name": "stdout",
     "output_type": "stream",
     "text": [
      "17\n",
      "4\n",
      "2022\n",
      "\n",
      "17 / 4 / 2022\n"
     ]
    }
   ],
   "source": [
    "print(curr.day) # printing date of a datetime literal\n",
    "print(curr.month) # printing month of a datetime literal\n",
    "print(curr.year) # printing year of a datetime literal\n",
    "print()\n",
    "# customising the format of datetime \n",
    "\n",
    "print(curr.day,'/',curr.month,'/',curr.year)"
   ]
  },
  {
   "cell_type": "code",
   "execution_count": 33,
   "metadata": {},
   "outputs": [
    {
     "name": "stdout",
     "output_type": "stream",
     "text": [
      "yesterday was:  16 / 4 / 2022\n",
      "Last month was:  18 / 3 / 2022\n",
      "Last year was:  17 / 4 / 2021\n"
     ]
    }
   ],
   "source": [
    "# timedelta\n",
    "# timedelta() returns a period of time\n",
    "d1 = timedelta(days = 1)\n",
    "m1 = timedelta(days = 30)\n",
    "y1 = timedelta(days = 365)\n",
    "\n",
    "yesterday = curr - d1\n",
    "lastMonth = curr - m1\n",
    "lastYear = curr - y1\n",
    "\n",
    "print('yesterday was: ', yesterday.day,'/',yesterday.month,'/',yesterday.year)\n",
    "print('Last month was: ', lastMonth.day,'/',lastMonth.month,'/',lastMonth.year)\n",
    "print('Last year was: ', lastYear.day,'/',lastYear.month,'/',lastYear.year)"
   ]
  }
 ],
 "metadata": {
  "kernelspec": {
   "display_name": "Python 3",
   "language": "python",
   "name": "python3"
  },
  "language_info": {
   "codemirror_mode": {
    "name": "ipython",
    "version": 3
   },
   "file_extension": ".py",
   "mimetype": "text/x-python",
   "name": "python",
   "nbconvert_exporter": "python",
   "pygments_lexer": "ipython3",
   "version": "3.7.3"
  }
 },
 "nbformat": 4,
 "nbformat_minor": 2
}
