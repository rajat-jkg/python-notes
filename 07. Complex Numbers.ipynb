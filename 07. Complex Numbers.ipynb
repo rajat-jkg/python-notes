{
 "cells": [
  {
   "cell_type": "markdown",
   "id": "b3049e20",
   "metadata": {},
   "source": [
    "<h1>Complex Numbers</h1>"
   ]
  },
  {
   "cell_type": "code",
   "execution_count": 1,
   "id": "b64adb08",
   "metadata": {},
   "outputs": [
    {
     "name": "stdout",
     "output_type": "stream",
     "text": [
      "(2+2j)\n"
     ]
    }
   ],
   "source": [
    "# In python there's a data type called complex number which can store complex numbers\n",
    "\n",
    "# Example\n",
    "\n",
    "a = 2+2j\n",
    "print(a)"
   ]
  },
  {
   "cell_type": "code",
   "execution_count": 4,
   "id": "bc195e7e",
   "metadata": {},
   "outputs": [
    {
     "name": "stdout",
     "output_type": "stream",
     "text": [
      "(6+8j)\n",
      "4j\n"
     ]
    }
   ],
   "source": [
    "# We can perform operations on complex numbers as we do in normal real world mathematics\n",
    "# Example:\n",
    "\n",
    "a = 3+2j\n",
    "b = 3+6j\n",
    "print(a+b)\n",
    "print(b-a)"
   ]
  },
  {
   "cell_type": "code",
   "execution_count": 8,
   "id": "43236068",
   "metadata": {},
   "outputs": [
    {
     "name": "stdout",
     "output_type": "stream",
     "text": [
      "(2+6j)\n",
      "(4+208j)\n"
     ]
    }
   ],
   "source": [
    "# complex function: converts two integers or a string to a complex number\n",
    "str = \"2+202j\"\n",
    "x = 2\n",
    "y = 6\n",
    "print(complex(x,y))\n",
    "print(complex(str)+complex(x,y))"
   ]
  },
  {
   "cell_type": "code",
   "execution_count": 10,
   "id": "8b5744cb",
   "metadata": {},
   "outputs": [
    {
     "name": "stdout",
     "output_type": "stream",
     "text": [
      "5.0\n",
      "0.9272952180016122\n"
     ]
    }
   ],
   "source": [
    "from cmath import phase\n",
    "# finding the pase and magnitude of a complex number\n",
    "c = 3+4j\n",
    "print(abs(c)) # for magnitude\n",
    "print(phase(c)) # for phase angle"
   ]
  }
 ],
 "metadata": {
  "kernelspec": {
   "display_name": "Python 3 (ipykernel)",
   "language": "python",
   "name": "python3"
  },
  "language_info": {
   "codemirror_mode": {
    "name": "ipython",
    "version": 3
   },
   "file_extension": ".py",
   "mimetype": "text/x-python",
   "name": "python",
   "nbconvert_exporter": "python",
   "pygments_lexer": "ipython3",
   "version": "3.9.7"
  }
 },
 "nbformat": 4,
 "nbformat_minor": 5
}
