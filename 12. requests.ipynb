{
 "cells": [
  {
   "cell_type": "markdown",
   "metadata": {},
   "source": [
    "### Importing requests library"
   ]
  },
  {
   "cell_type": "code",
   "execution_count": 2,
   "metadata": {},
   "outputs": [],
   "source": [
    "import requests"
   ]
  },
  {
   "cell_type": "markdown",
   "metadata": {},
   "source": [
    "### Getting HTML from a URL"
   ]
  },
  {
   "cell_type": "code",
   "execution_count": 27,
   "metadata": {},
   "outputs": [],
   "source": [
    "r = requests.get('https://rajat-jkg.github.io/ttt-game')"
   ]
  },
  {
   "cell_type": "code",
   "execution_count": 31,
   "metadata": {
    "scrolled": true
   },
   "outputs": [
    {
     "name": "stdout",
     "output_type": "stream",
     "text": [
      "200\n",
      "https://rajat-jkg.github.io/ttt-game/\n",
      "b'<!DOCTYPE html>\\n<html lang=\"en\">\\n<head>\\n    <meta charset=\"UTF-8\">\\n    <meta http-equiv=\"X-UA-Compatible\" content=\"IE=edge\">\\n    <meta name=\"viewport\" content=\"width=device-width, initial-scale=1.0\">\\n    <title>Tic tac toe | By Rajat Gupta</title>\\n    <meta property=\"og:image\" content=\"https://avatars.slack-edge.com/2017-05-27/188949058290_577ab559045c89cc851b_512.png\">\\n    <link rel=\"stylesheet\" href=\"./css/main.css\">\\n    <script src=\"./js/main.js\"></script>\\n</head>\\n<body>\\n    <header>\\n        <h1>Tic Tac toe</h1>\\n        <p>Developed by Rajat Gupta.</p>\\n    </header>\\n    <div style=\"height: 50px;\"></div>\\n    <div id=\"player_name\" style=\"display: block; zoom: 120%;\">\\n        <p>Enter player 1 name</p>\\n        <input type=\"text\" name=\"Player 1\" id=\"p1\">\\n        <p>Enter player 2 name</p>\\n        <input type=\"text\" name=\"Player 2\" id=\"p2\">\\n        <br>\\n        <div style=\"height: 20px;\"></div>\\n        <button onclick=\"start_game()\">Start</button>\\n    </div>\\n    <div style=\"height: 20px;\"></div>\\n    <div id=\"main_game\" style=\"display: none;\">\\n        <p id=\"instruct\">Game starts</p>\\n        <div class=\"container\">\\n            <div id=\"1x1\" class=\"cells\" onclick=\"input(this)\"></div>\\n            <div id=\"1x2\" class=\"cells\" onclick=\"input(this)\"></div>\\n            <div id=\"1x3\" class=\"cells\" onclick=\"input(this)\"></div>\\n            <div class=\"break\"></div>\\n            <div id=\"2x1\" class=\"cells\" onclick=\"input(this)\"></div>\\n            <div id=\"2x2\" class=\"cells\" onclick=\"input(this)\"></div>\\n            <div id=\"2x3\" class=\"cells\" onclick=\"input(this)\"></div>\\n            <div class=\"break\"></div>\\n            <div id=\"3x1\" class=\"cells\" onclick=\"input(this)\"></div>\\n            <div id=\"3x2\" class=\"cells\" onclick=\"input(this)\"></div>\\n            <div id=\"3x3\" class=\"cells\" onclick=\"input(this)\"></div>\\n            <div class=\"break\"></div>\\n        </div>\\n        <div style=\"min-height: 40px;\"></div>\\n        <div id=\"reset\" style=\"text-align: center; zoom: 200%;\" onclick=\"reset()\"><button>Restart</button></div>\\n    </div>\\n    <div style=\"min-height: 40vh;\"></div>\\n    <footer>\\n        <p>This game is built on JavaScript | Idea by Himanshu Gupta | &#169 Rajat Gupta</p>\\n    </footer>\\n</body>\\n</html>'\n"
     ]
    }
   ],
   "source": [
    "print(r.status_code)  #returns the status code of the request such as 200 for success and 404 for page not found\n",
    "print(r.url) #returns the url of the request\n",
    "print(r.content) #prints html content of the request"
   ]
  },
  {
   "cell_type": "code",
   "execution_count": 41,
   "metadata": {
    "scrolled": true
   },
   "outputs": [
    {
     "name": "stdout",
     "output_type": "stream",
     "text": [
      "{'Connection': 'keep-alive', 'Content-Length': '775', 'Server': 'GitHub.com', 'Content-Type': 'text/html; charset=utf-8', 'permissions-policy': 'interest-cohort=()', 'Last-Modified': 'Sun, 13 Jun 2021 05:41:28 GMT', 'Access-Control-Allow-Origin': '*', 'ETag': 'W/\"60c59a88-8b3\"', 'expires': 'Fri, 30 Dec 2022 05:27:55 GMT', 'Cache-Control': 'max-age=600', 'Content-Encoding': 'gzip', 'x-proxy-cache': 'MISS', 'X-GitHub-Request-Id': '560C:7D86:52B299:7B63F0:63AE7483', 'Accept-Ranges': 'bytes', 'Date': 'Fri, 30 Dec 2022 05:23:05 GMT', 'Via': '1.1 varnish', 'Age': '173', 'X-Served-By': 'cache-mrs10556-MRS', 'X-Cache': 'HIT', 'X-Cache-Hits': '1', 'X-Timer': 'S1672377786.872921,VS0,VE3', 'Vary': 'Accept-Encoding', 'X-Fastly-Request-ID': '9835e047fd8521d32a73669c24e72e14ab0ddd87'}\n"
     ]
    }
   ],
   "source": [
    "print(r.headers) #displays info of the request"
   ]
  },
  {
   "cell_type": "code",
   "execution_count": 51,
   "metadata": {},
   "outputs": [],
   "source": [
    "r = requests.get('https://rajatgupta.me')"
   ]
  },
  {
   "cell_type": "code",
   "execution_count": 45,
   "metadata": {},
   "outputs": [
    {
     "data": {
      "text/plain": [
       "{'Connection': 'Keep-Alive', 'Keep-Alive': 'timeout=5, max=100', 'x-powered-by': 'PHP/8.1.2', 'content-type': 'text/html; charset=UTF-8', 'link': '<https://rajatgupta.me/wp-json/>; rel=\"https://api.w.org/\", <https://rajatgupta.me/wp-json/wp/v2/pages/13>; rel=\"alternate\"; type=\"application/json\", <https://rajatgupta.me/>; rel=shortlink', 'etag': '\"1059-1672268794;gz\"', 'x-litespeed-cache': 'hit', 'content-encoding': 'gzip', 'vary': 'Accept-Encoding', 'content-length': '34226', 'date': 'Fri, 30 Dec 2022 05:37:43 GMT', 'server': 'LiteSpeed', 'platform': 'hostinger', 'content-security-policy': 'upgrade-insecure-requests', 'alt-svc': 'h3=\":443\"; ma=2592000, h3-29=\":443\"; ma=2592000, h3-Q050=\":443\"; ma=2592000, h3-Q046=\":443\"; ma=2592000, h3-Q043=\":443\"; ma=2592000, quic=\":443\"; ma=2592000; v=\"43,46\"'}"
      ]
     },
     "execution_count": 45,
     "metadata": {},
     "output_type": "execute_result"
    }
   ],
   "source": [
    "r.headers"
   ]
  }
 ],
 "metadata": {
  "kernelspec": {
   "display_name": "Python 3 (ipykernel)",
   "language": "python",
   "name": "python3"
  },
  "language_info": {
   "codemirror_mode": {
    "name": "ipython",
    "version": 3
   },
   "file_extension": ".py",
   "mimetype": "text/x-python",
   "name": "python",
   "nbconvert_exporter": "python",
   "pygments_lexer": "ipython3",
   "version": "3.10.7"
  },
  "vscode": {
   "interpreter": {
    "hash": "c663117a3a381aa5c816d783830e80f3dbba87e53d59780e0b516fc70f63b042"
   }
  }
 },
 "nbformat": 4,
 "nbformat_minor": 2
}
