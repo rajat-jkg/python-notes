{
 "cells": [
  {
   "cell_type": "markdown",
   "metadata": {},
   "source": [
    "<h1>Basic notes</h1>"
   ]
  },
  {
   "cell_type": "markdown",
   "metadata": {},
   "source": [
    "<h3>Comments</h3>\n",
    "Comments are followed by #"
   ]
  },
  {
   "cell_type": "code",
   "execution_count": 1,
   "metadata": {},
   "outputs": [],
   "source": [
    "# this is a comment"
   ]
  },
  {
   "cell_type": "markdown",
   "metadata": {},
   "source": [
    "<h3>String Functions</h3>"
   ]
  },
  {
   "cell_type": "code",
   "execution_count": 2,
   "metadata": {},
   "outputs": [
    {
     "name": "stdout",
     "output_type": "stream",
     "text": [
      "HELLO WORLD\n",
      "hello world\n",
      "Hello world\n",
      "0\n"
     ]
    }
   ],
   "source": [
    "sentence = \"hellO WOrld\"\n",
    "print(sentence.upper()) # converts the string to upper case\n",
    "print(sentence.lower()) # converts the string to lower case\n",
    "print(sentence.capitalize()) # makes the first letter of the string as upper case and rest as lower case\n",
    "print(sentence.count('a')) # counts the number of times the given argument occurs in the string"
   ]
  },
  {
   "cell_type": "markdown",
   "metadata": {},
   "source": [
    "<strong>More on count</strong>"
   ]
  },
  {
   "cell_type": "code",
   "execution_count": 3,
   "metadata": {},
   "outputs": [
    {
     "name": "stdout",
     "output_type": "stream",
     "text": [
      "2\n",
      "1\n",
      "1\n",
      "0\n"
     ]
    }
   ],
   "source": [
    "name = 'Rajat'\n",
    "print(name.count(\"a\"))\n",
    "print(name.count(\"aj\"))# can take multi character strings\n",
    "print(name.count(\"R\"))# considers case also\n",
    "print(name.count(\"r\"))"
   ]
  },
  {
   "cell_type": "markdown",
   "metadata": {},
   "source": [
    "<h3>Mathematical operators</h3>"
   ]
  },
  {
   "cell_type": "code",
   "execution_count": 4,
   "metadata": {},
   "outputs": [
    {
     "name": "stdout",
     "output_type": "stream",
     "text": [
      "a =  12  \n",
      "b =  22\n",
      "\n",
      "Sum =  34\n",
      "Difference =  10\n",
      "Multiplication =  264\n",
      "Floating Division 1.8333333333333333\n",
      "Integer Division 1\n",
      "a raised to power b 552061438912436417593344\n"
     ]
    }
   ],
   "source": [
    "a = 12\n",
    "b = 22\n",
    "print(\"a = \",a,\" \\nb = \",b)\n",
    "print()\n",
    "print(\"Sum = \",a+b) # addition\n",
    "print(\"Difference = \",b-a) # Substraction\n",
    "print(\"Multiplication = \",a*b) # Multiplication\n",
    "print(\"Floating Division\", b/a) # Division\n",
    "print(\"Integer Division\", b//a) # Division that uses // returns integer value\n",
    "print(\"a raised to power b\",a**b) #Exponent\n"
   ]
  },
  {
   "cell_type": "markdown",
   "metadata": {},
   "source": [
    "<h3>Type Conversion</h3>"
   ]
  },
  {
   "cell_type": "markdown",
   "metadata": {},
   "source": [
    "<strong>str(): changes any data type to string <br>\n",
    "int(): converts any data type to integer </strong>"
   ]
  },
  {
   "cell_type": "code",
   "execution_count": 5,
   "metadata": {},
   "outputs": [
    {
     "name": "stdout",
     "output_type": "stream",
     "text": [
      "Enter a number12\n",
      "Enter another number10\n",
      "1210 (Without Type conversion)\n",
      "22 (With Type conversion)\n"
     ]
    }
   ],
   "source": [
    "num1 = input(\"Enter a number\")\n",
    "num2 = input(\"Enter another number\")\n",
    "print(num1+num2, \"(Without Type conversion)\") \n",
    "print(int(num1)+int(num2), \"(With Type conversion)\")"
   ]
  },
  {
   "cell_type": "markdown",
   "metadata": {},
   "source": [
    "<h3>type fuction</h3>\n",
    "<b>The type funtion returns the data type of the a variabe</b>"
   ]
  },
  {
   "cell_type": "code",
   "execution_count": 11,
   "metadata": {},
   "outputs": [
    {
     "name": "stdout",
     "output_type": "stream",
     "text": [
      "<class 'int'>\n",
      "<class 'float'>\n",
      "<class 'str'>\n",
      "<class 'type'>\n"
     ]
    }
   ],
   "source": [
    "#Example\n",
    "print(type(a))\n",
    "k = 22.6\n",
    "name = \"Heera Laal\"\n",
    "print(type(k))\n",
    "print(type(name))\n",
    "print(type(type(k))) # the datatype that type returns is a called type"
   ]
  },
  {
   "cell_type": "markdown",
   "metadata": {},
   "source": [
    "<h3>id funtion:</h3>\n",
    "<b>It returns address of the variable given in the argument. In form if a numeric ID</b>"
   ]
  },
  {
   "cell_type": "code",
   "execution_count": 2,
   "metadata": {},
   "outputs": [
    {
     "name": "stdout",
     "output_type": "stream",
     "text": [
      "139703621397616\n"
     ]
    }
   ],
   "source": [
    "#Example\n",
    "v = ''\n",
    "print(id(v))"
   ]
  },
  {
   "cell_type": "markdown",
   "metadata": {},
   "source": [
    "<h2>Logical operators</h2>"
   ]
  },
  {
   "cell_type": "code",
   "execution_count": 4,
   "metadata": {},
   "outputs": [
    {
     "name": "stdout",
     "output_type": "stream",
     "text": [
      "False\n",
      "True\n",
      "True\n",
      "False\n"
     ]
    }
   ],
   "source": [
    "# and , or , not are the keywords that are used as logical operatprs in python\n",
    "# Example\n",
    "a = False\n",
    "b = True\n",
    "print(a and b)\n",
    "print(a or b)\n",
    "print(not a )\n",
    "print(not b)"
   ]
  },
  {
   "cell_type": "markdown",
   "metadata": {},
   "source": [
    "<h2>max and min functions</h2>"
   ]
  },
  {
   "cell_type": "code",
   "execution_count": 15,
   "metadata": {},
   "outputs": [
    {
     "name": "stdout",
     "output_type": "stream",
     "text": [
      "8\n",
      "1\n"
     ]
    }
   ],
   "source": [
    "print(max(1,8,6,5)) # returns maximum value of the arguments\n",
    "print(min(1,8,6,5)) # returns minimum value of the argumentd"
   ]
  },
  {
   "attachments": {},
   "cell_type": "markdown",
   "metadata": {},
   "source": [
    "## Fstring"
   ]
  },
  {
   "cell_type": "code",
   "execution_count": 1,
   "metadata": {},
   "outputs": [
    {
     "name": "stdout",
     "output_type": "stream",
     "text": [
      "Rajat Gupta\n"
     ]
    }
   ],
   "source": [
    "fName = 'Rajat'\n",
    "lName = 'Gupta'\n",
    "\n",
    "fullN = f\"{fName} {lName}\"\n",
    "\n",
    "print(fullN)"
   ]
  }
 ],
 "metadata": {
  "kernelspec": {
   "display_name": "Python 3",
   "language": "python",
   "name": "python3"
  },
  "language_info": {
   "codemirror_mode": {
    "name": "ipython",
    "version": 3
   },
   "file_extension": ".py",
   "mimetype": "text/x-python",
   "name": "python",
   "nbconvert_exporter": "python",
   "pygments_lexer": "ipython3",
   "version": "3.10.7"
  },
  "vscode": {
   "interpreter": {
    "hash": "c663117a3a381aa5c816d783830e80f3dbba87e53d59780e0b516fc70f63b042"
   }
  }
 },
 "nbformat": 4,
 "nbformat_minor": 2
}
