{
 "cells": [
  {
   "cell_type": "code",
   "execution_count": 1,
   "id": "689914d2",
   "metadata": {},
   "outputs": [],
   "source": [
    "import matplotlib.pyplot\n",
    "from math import factorial\n",
    "import numpy as np"
   ]
  },
  {
   "cell_type": "code",
   "execution_count": 2,
   "id": "ada98a78",
   "metadata": {},
   "outputs": [],
   "source": [
    "# funtions\n",
    "\n",
    "def ncr(n, r):\n",
    "  \"\"\"\n",
    "  Calculates the nCr combination.\n",
    "\n",
    "  Args:\n",
    "    n: The total number of items.\n",
    "    r: The number of items to choose.\n",
    "\n",
    "  Returns:\n",
    "    The value of nCr.\n",
    "  \"\"\"\n",
    "\n",
    "  # Check if r is valid.\n",
    "  if r > n or r < 0:\n",
    "    raise ValueError(\"r must be between 0 and n.\")\n",
    "\n",
    "  # Calculate the factorials.\n",
    "  n_factorial = factorial(n)\n",
    "  r_factorial = factorial(r)\n",
    "  nr_factorial = factorial(n - r)\n",
    "\n",
    "  # Calculate the combination.\n",
    "  return n_factorial // (r_factorial * nr_factorial)"
   ]
  },
  {
   "cell_type": "code",
   "execution_count": 5,
   "id": "a7aba5ab",
   "metadata": {},
   "outputs": [
    {
     "name": "stdout",
     "output_type": "stream",
     "text": [
      "N: 25\n",
      "p: 0.5\n"
     ]
    }
   ],
   "source": [
    "n = int(input(\"N: \"))\n",
    "p = float(input(\"p: \"))\n",
    "\n",
    "x = [ncr(n,r)*(p**r)*((1-p)**(n-r)) for r in range(1,n+1)]"
   ]
  },
  {
   "cell_type": "code",
   "execution_count": 6,
   "id": "320ccf92",
   "metadata": {
    "scrolled": true
   },
   "outputs": [
    {
     "data": {
      "image/png": "[encoded data removed]",
      "text/plain": [
       "<Figure size 640x480 with 1 Axes>"
      ]
     },
     "metadata": {},
     "output_type": "display_data"
    }
   ],
   "source": [
    "matplotlib.pyplot.bar(range(1,len(x)+1),x)\n",
    "matplotlib.pyplot.show()"
   ]
  },
  {
   "cell_type": "code",
   "execution_count": 24,
   "id": "d67e41a1",
   "metadata": {},
   "outputs": [],
   "source": [
    "data = np.array(x)\n",
    "dist = np.array(range(1,n+1))"
   ]
  },
  {
   "cell_type": "code",
   "execution_count": 26,
   "id": "4744d405",
   "metadata": {},
   "outputs": [
    {
     "name": "stdout",
     "output_type": "stream",
     "text": [
      "0.03999999999992255\n",
      "13.0\n"
     ]
    }
   ],
   "source": [
    "print(np.mean(data))\n",
    "print(np.mean(dist))"
   ]
  }
 ],
 "metadata": {
  "kernelspec": {
   "display_name": "Python 3 (ipykernel)",
   "language": "python",
   "name": "python3"
  },
  "language_info": {
   "codemirror_mode": {
    "name": "ipython",
    "version": 3
   },
   "file_extension": ".py",
   "mimetype": "text/x-python",
   "name": "python",
   "nbconvert_exporter": "python",
   "pygments_lexer": "ipython3",
   "version": "3.11.3"
  }
 },
 "nbformat": 4,
 "nbformat_minor": 5
}
