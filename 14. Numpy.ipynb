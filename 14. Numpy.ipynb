{
 "cells": [
  {
   "cell_type": "code",
   "execution_count": 1,
   "id": "5481c485",
   "metadata": {},
   "outputs": [],
   "source": [
    "import numpy as np"
   ]
  },
  {
   "cell_type": "markdown",
   "id": "e00b85ff",
   "metadata": {},
   "source": [
    "<h3>A numpy array</h3>"
   ]
  },
  {
   "cell_type": "code",
   "execution_count": 25,
   "id": "c4b8014b",
   "metadata": {},
   "outputs": [
    {
     "name": "stdout",
     "output_type": "stream",
     "text": [
      "[1 2 3]\n"
     ]
    }
   ],
   "source": [
    "a = np.array([1,2,3])\n",
    "print(a)"
   ]
  },
  {
   "cell_type": "markdown",
   "id": "1972c03d",
   "metadata": {},
   "source": [
    "<h3>Different attributes of numpy array</h3>"
   ]
  },
  {
   "cell_type": "code",
   "execution_count": 26,
   "id": "411feffb",
   "metadata": {
    "scrolled": true
   },
   "outputs": [
    {
     "name": "stdout",
     "output_type": "stream",
     "text": [
      "(3,)\n",
      "3\n",
      "int32\n",
      "4\n"
     ]
    }
   ],
   "source": [
    "print(a.shape) #dimensions of the array\n",
    "print(a.size) #number of elements in the array\n",
    "print(a.dtype) #data type of the array\n",
    "print(a.itemsize) #item size in bytes"
   ]
  },
  {
   "cell_type": "markdown",
   "id": "ae3c040c",
   "metadata": {},
   "source": [
    "<h3>Changing the data type</h3>"
   ]
  },
  {
   "cell_type": "code",
   "execution_count": 27,
   "id": "771006d2",
   "metadata": {},
   "outputs": [
    {
     "name": "stdout",
     "output_type": "stream",
     "text": [
      "int16\n"
     ]
    }
   ],
   "source": [
    "a.dtype = 'int16'\n",
    "print(a.dtype)"
   ]
  },
  {
   "cell_type": "markdown",
   "id": "1c810a92",
   "metadata": {},
   "source": [
    "<h3>Creating a standard array</h3>"
   ]
  },
  {
   "cell_type": "code",
   "execution_count": 28,
   "id": "0dcf3f58",
   "metadata": {
    "scrolled": true
   },
   "outputs": [
    {
     "name": "stdout",
     "output_type": "stream",
     "text": [
      "[[0 0 0]\n",
      " [0 0 0]\n",
      " [0 0 0]]\n",
      "[[1 1 1]\n",
      " [1 1 1]\n",
      " [1 1 1]]\n",
      "[[90 90 90]\n",
      " [90 90 90]\n",
      " [90 90 90]]\n",
      "[[1 0 0]\n",
      " [0 1 0]\n",
      " [0 0 1]]\n",
      "[0 1 2 3 4 5 6 7 8]\n"
     ]
    }
   ],
   "source": [
    "b = np.zeros((3,3), 'int8') #matrix of zeros of given shape\n",
    "c = np.ones((3,3),'int8') #matrix of ones of given shape\n",
    "d = np.full(b.shape,90) #matrix of given dimentions with only one element\n",
    "i = np.identity(3,'int8') #identity matrix of given shape\n",
    "seq = np.arange(9) #matrix of whole numbers of given size\n",
    "\n",
    "print(b)\n",
    "print(c)\n",
    "print(d)\n",
    "print(i)\n",
    "print(seq)"
   ]
  },
  {
   "cell_type": "markdown",
   "id": "6ef2f687",
   "metadata": {},
   "source": [
    "<h3>Accessing elements form an array</h3>"
   ]
  },
  {
   "cell_type": "code",
   "execution_count": 29,
   "id": "e8661ea7",
   "metadata": {
    "scrolled": true
   },
   "outputs": [
    {
     "data": {
      "text/plain": [
       "array([2, 3, 4, 5])"
      ]
     },
     "execution_count": 29,
     "metadata": {},
     "output_type": "execute_result"
    }
   ],
   "source": [
    "seq[2:6] #similar to that in a list"
   ]
  },
  {
   "cell_type": "code",
   "execution_count": 30,
   "id": "86830107",
   "metadata": {},
   "outputs": [
    {
     "name": "stdout",
     "output_type": "stream",
     "text": [
      "[[1 0]\n",
      " [0 1]]\n"
     ]
    }
   ],
   "source": [
    "print(i[0:2,0:2])"
   ]
  },
  {
   "cell_type": "markdown",
   "id": "532946aa",
   "metadata": {},
   "source": [
    "<h3>Replacing elements</h3>"
   ]
  },
  {
   "cell_type": "code",
   "execution_count": 31,
   "id": "a973de0a",
   "metadata": {},
   "outputs": [
    {
     "data": {
      "text/plain": [
       "array([ 0,  1,  1, 55, 66, 77,  6,  7,  8])"
      ]
     },
     "execution_count": 31,
     "metadata": {},
     "output_type": "execute_result"
    }
   ],
   "source": [
    "seq[2:6]=(1,55,66,77)\n",
    "seq"
   ]
  },
  {
   "cell_type": "code",
   "execution_count": 32,
   "id": "99045a38",
   "metadata": {},
   "outputs": [
    {
     "data": {
      "text/plain": [
       "array([[0, 0, 0],\n",
       "       [0, 2, 2],\n",
       "       [0, 2, 3]], dtype=int8)"
      ]
     },
     "execution_count": 32,
     "metadata": {},
     "output_type": "execute_result"
    }
   ],
   "source": [
    "b[1:3,1:3] = ((2,2),(2,3))\n",
    "b"
   ]
  },
  {
   "cell_type": "markdown",
   "id": "78a51605",
   "metadata": {},
   "source": [
    "<h3>Basic oprtations</h3>"
   ]
  },
  {
   "cell_type": "code",
   "execution_count": 33,
   "id": "e33a2b0b",
   "metadata": {},
   "outputs": [
    {
     "name": "stdout",
     "output_type": "stream",
     "text": [
      "[ 4  5  5 59 70 81 10 11 12]\n",
      "\n",
      "[[1 1 1]\n",
      " [1 3 3]\n",
      " [1 3 4]]\n"
     ]
    }
   ],
   "source": [
    "print(seq+4) #adding 4 element wise\n",
    "print()\n",
    "print(c+b) #adding two matices"
   ]
  },
  {
   "cell_type": "code",
   "execution_count": 34,
   "id": "2fc3f717",
   "metadata": {},
   "outputs": [
    {
     "data": {
      "text/plain": [
       "array([[ 0,  0,  0],\n",
       "       [ 0, 10, 10],\n",
       "       [ 0, 10, 15]], dtype=int8)"
      ]
     },
     "execution_count": 34,
     "metadata": {},
     "output_type": "execute_result"
    }
   ],
   "source": [
    "b*5 #element wise multiplication"
   ]
  },
  {
   "cell_type": "code",
   "execution_count": 35,
   "id": "bbcb2dd5",
   "metadata": {},
   "outputs": [
    {
     "name": "stdout",
     "output_type": "stream",
     "text": [
      "[[0 0 0]\n",
      " [0 2 2]\n",
      " [0 2 3]]\n",
      "\n",
      "[[0 0 0]\n",
      " [4 4 4]\n",
      " [5 5 5]]\n"
     ]
    }
   ],
   "source": [
    "print(b @ i) #matrix multiplication with @ symbol\n",
    "print()\n",
    "print(b.dot(c)) #matrix multiplication with dot function"
   ]
  },
  {
   "cell_type": "markdown",
   "id": "e29852b7",
   "metadata": {},
   "source": [
    "<h3>Iterating through a numpy array</h3>"
   ]
  },
  {
   "cell_type": "code",
   "execution_count": 36,
   "id": "702ef8d9",
   "metadata": {},
   "outputs": [
    {
     "name": "stdout",
     "output_type": "stream",
     "text": [
      "[1 0 0]\n",
      "[0 1 0]\n",
      "[0 0 1]\n"
     ]
    }
   ],
   "source": [
    "for x in i:\n",
    "    print(x)"
   ]
  },
  {
   "cell_type": "code",
   "execution_count": 37,
   "id": "86eeec8c",
   "metadata": {
    "scrolled": true
   },
   "outputs": [
    {
     "name": "stdout",
     "output_type": "stream",
     "text": [
      "1\n",
      "0\n",
      "0\n",
      "0\n",
      "1\n",
      "0\n",
      "0\n",
      "0\n",
      "1\n"
     ]
    }
   ],
   "source": [
    "for x in i:\n",
    "    for y in x:\n",
    "        print(y)"
   ]
  },
  {
   "cell_type": "markdown",
   "id": "b9307099",
   "metadata": {},
   "source": [
    "## Matrices"
   ]
  },
  {
   "cell_type": "code",
   "execution_count": 38,
   "id": "53e455b0",
   "metadata": {},
   "outputs": [
    {
     "name": "stdout",
     "output_type": "stream",
     "text": [
      "0.0\n",
      "1.0\n"
     ]
    }
   ],
   "source": [
    "# Finding the determinant of a matrix\n",
    "print(np.linalg.det(c))\n",
    "print(np.linalg.det(i))\n"
   ]
  },
  {
   "cell_type": "code",
   "execution_count": 39,
   "id": "0079ec78",
   "metadata": {},
   "outputs": [
    {
     "name": "stdout",
     "output_type": "stream",
     "text": [
      "[[0 0 0]\n",
      " [0 2 2]\n",
      " [0 2 3]]\n"
     ]
    }
   ],
   "source": [
    "# transpose\n",
    "print(np.transpose(b))"
   ]
  },
  {
   "cell_type": "code",
   "execution_count": 40,
   "id": "22149ba9",
   "metadata": {},
   "outputs": [
    {
     "name": "stdout",
     "output_type": "stream",
     "text": [
      "[0 0 0 0 2 2 0 2 3]\n"
     ]
    }
   ],
   "source": [
    "# flatten\n",
    "print(b.flatten())"
   ]
  },
  {
   "cell_type": "code",
   "execution_count": 41,
   "id": "b4096822",
   "metadata": {},
   "outputs": [
    {
     "name": "stdout",
     "output_type": "stream",
     "text": [
      "[[ 0  1  1]\n",
      " [55 66 77]\n",
      " [ 6  7  8]]\n"
     ]
    }
   ],
   "source": [
    "#reshape\n",
    "print(np.reshape(seq,(3,3)))"
   ]
  },
  {
   "cell_type": "markdown",
   "id": "e1c5e6e6",
   "metadata": {},
   "source": [
    "### Statistics"
   ]
  },
  {
   "cell_type": "code",
   "execution_count": 43,
   "id": "f6c5f57a",
   "metadata": {},
   "outputs": [
    {
     "name": "stdout",
     "output_type": "stream",
     "text": [
      "1\n",
      "4\n",
      "10\n",
      "2.5\n"
     ]
    }
   ],
   "source": [
    "## max\n",
    "stat = np.array([4,3,2,1])\n",
    "\n",
    "## min\n",
    "print(np.min(stat))\n",
    "\n",
    "#max\n",
    "print(np.max(stat))\n",
    "\n",
    "#sum\n",
    "print(np.sum(stat))\n",
    "\n",
    "#average\n",
    "print(np.average(stat))"
   ]
  },
  {
   "cell_type": "code",
   "execution_count": 47,
   "id": "41e8a757",
   "metadata": {},
   "outputs": [
    {
     "name": "stdout",
     "output_type": "stream",
     "text": [
      "[[1 2 3]\n",
      " [4 5 6]]\n",
      "[5 7 9]\n",
      "[ 6 15]\n"
     ]
    }
   ],
   "source": [
    "mat = np.array(((1,2,3),(4,5,6)))\n",
    "print(mat)\n",
    "print(np.sum(mat, axis=0)) # axis zero means column wise\n",
    "print(np.sum(mat, axis=1)) #axis one means row wise"
   ]
  },
  {
   "cell_type": "markdown",
   "id": "3cd8ccab",
   "metadata": {},
   "source": [
    "### Rint, ciel, floor"
   ]
  },
  {
   "cell_type": "code",
   "execution_count": 4,
   "id": "8b56b1ba",
   "metadata": {},
   "outputs": [
    {
     "name": "stdout",
     "output_type": "stream",
     "text": [
      "[1. 2. 3. 4. 6. 7.]\n",
      "[2. 3. 4. 5. 6. 7.]\n",
      "[1. 2. 3. 4. 5. 6.]\n"
     ]
    }
   ],
   "source": [
    "ar = np.array((1.1,2.2,3.3,4.4,5.5,6.6))\n",
    "print(np.rint(ar))\n",
    "print(np.ceil(ar))\n",
    "print(np.floor(ar))"
   ]
  }
 ],
 "metadata": {
  "kernelspec": {
   "display_name": "Python 3 (ipykernel)",
   "language": "python",
   "name": "python3"
  },
  "language_info": {
   "codemirror_mode": {
    "name": "ipython",
    "version": 3
   },
   "file_extension": ".py",
   "mimetype": "text/x-python",
   "name": "python",
   "nbconvert_exporter": "python",
   "pygments_lexer": "ipython3",
   "version": "3.11.3"
  }
 },
 "nbformat": 4,
 "nbformat_minor": 5
}
